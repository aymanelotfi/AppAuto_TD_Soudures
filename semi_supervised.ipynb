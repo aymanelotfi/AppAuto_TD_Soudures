{
 "cells": [
  {
   "cell_type": "markdown",
   "metadata": {},
   "source": [
    "# Preprocessing"
   ]
  },
  {
   "cell_type": "code",
   "execution_count": 32,
   "metadata": {},
   "outputs": [],
   "source": [
    "\n",
    "import sklearn\n",
    "assert sklearn.__version__ >= \"0.20\"\n",
    "import numpy as np\n",
    "import pandas as pd\n",
    "import seaborn as sns\n",
    "%matplotlib inline \n",
    "import matplotlib as mpl\n",
    "import matplotlib.pyplot as plt"
   ]
  },
  {
   "cell_type": "code",
   "execution_count": 33,
   "metadata": {},
   "outputs": [],
   "source": [
    "input_df =pd.read_csv(\"input_df.csv\")\n",
    "input_df_pca =pd.read_csv(\"input_df_pca.csv\")\n",
    "output_df_class =pd.read_csv(\"output_df_class.csv\")\n",
    "output_df_class.drop(columns=[\"Unnamed: 0\"],inplace=True)\n",
    "input_df_pca.drop(columns=[\"Unnamed: 0\"],inplace=True)\n",
    "input_df.drop(columns=[\"Unnamed: 0\"],inplace=True)"
   ]
  },
  {
   "cell_type": "code",
   "execution_count": 34,
   "metadata": {},
   "outputs": [],
   "source": [
    "input_dict = {\"Not PCA\" : input_df.copy(),\"PCA\": input_df_pca.copy()}\n",
    "Y = output_df_class.copy()\n",
    "\n",
    "target_names = [\"bad_class\",\"good_class\",\"very_good_class\"]\n",
    "class_counter = 0\n",
    "Y[\"multiclass\"] = np.where(pd.isna(Y[\"class_bad\"]), np.nan, 0)\n",
    "for c in [\"class_bad\",\"class_good\",\"class_very_good\"] :\n",
    "    Y[c] = np.where(Y[c] == 1, class_counter, 0) \n",
    "    class_counter+=1\n",
    "Y[\"multiclass\"] = Y.sum(axis=1) + Y[\"multiclass\"]\n",
    "Y[\"multiclass\"] = np.where(pd.isna(Y[\"multiclass\"]), -1, Y[\"multiclass\"])\n",
    "Y = np.array(Y[\"multiclass\"])\n",
    "\n",
    "df_results = pd.DataFrame(columns=['Method','Input', 'Accuracy','R2'])"
   ]
  },
  {
   "cell_type": "code",
   "execution_count": 35,
   "metadata": {},
   "outputs": [],
   "source": [
    "def delete_unknown(y_test,y_pred):\n",
    "    \"\"\"Takes y_true and y_pred and supress in both the values corresponding to a -1 for y_test\"\"\"\n",
    "    \n",
    "    y_test.resize((y_test.shape[0],1))\n",
    "    y_pred.resize((y_pred.shape[0],1))\n",
    "    array = np.concatenate((y_test,y_pred), axis = 1)\n",
    "    array = array[np.logical_not(array[:,0]==-1)]\n",
    "    return array[:,0][:,np.newaxis],array[:,1][:,np.newaxis]"
   ]
  },
  {
   "cell_type": "markdown",
   "metadata": {},
   "source": [
    "# Self training"
   ]
  },
  {
   "cell_type": "code",
   "execution_count": 36,
   "metadata": {},
   "outputs": [],
   "source": [
    "from sklearn.semi_supervised import SelfTrainingClassifier\n",
    "from sklearn.svm import SVC\n",
    "from sklearn.model_selection import StratifiedKFold\n",
    "from sklearn.metrics import accuracy_score ,confusion_matrix,r2_score"
   ]
  },
  {
   "cell_type": "code",
   "execution_count": 37,
   "metadata": {},
   "outputs": [
    {
     "name": "stdout",
     "output_type": "stream",
     "text": [
      "[[ 27.  96.  39.]\n",
      " [ 32. 221.  70.]\n",
      " [ 11.  76.  75.]]\n",
      "[[ 32.  91.  39.]\n",
      " [ 32. 211.  80.]\n",
      " [  9.  73.  80.]]\n"
     ]
    },
    {
     "data": {
      "text/html": [
       "<div>\n",
       "<style scoped>\n",
       "    .dataframe tbody tr th:only-of-type {\n",
       "        vertical-align: middle;\n",
       "    }\n",
       "\n",
       "    .dataframe tbody tr th {\n",
       "        vertical-align: top;\n",
       "    }\n",
       "\n",
       "    .dataframe thead th {\n",
       "        text-align: right;\n",
       "    }\n",
       "</style>\n",
       "<table border=\"1\" class=\"dataframe\">\n",
       "  <thead>\n",
       "    <tr style=\"text-align: right;\">\n",
       "      <th></th>\n",
       "      <th>Method</th>\n",
       "      <th>Input</th>\n",
       "      <th>Accuracy</th>\n",
       "      <th>R2</th>\n",
       "    </tr>\n",
       "  </thead>\n",
       "  <tbody>\n",
       "    <tr>\n",
       "      <th>0</th>\n",
       "      <td>Self_training</td>\n",
       "      <td>Not PCA</td>\n",
       "      <td>0.499 +- 0.138</td>\n",
       "      <td>-0.471 +- 0.757</td>\n",
       "    </tr>\n",
       "    <tr>\n",
       "      <th>1</th>\n",
       "      <td>Self_training</td>\n",
       "      <td>PCA</td>\n",
       "      <td>0.498 +- 0.158</td>\n",
       "      <td>-0.453 +- 0.828</td>\n",
       "    </tr>\n",
       "  </tbody>\n",
       "</table>\n",
       "</div>"
      ],
      "text/plain": [
       "          Method    Input        Accuracy               R2\n",
       "0  Self_training  Not PCA  0.499 +- 0.138  -0.471 +- 0.757\n",
       "1  Self_training      PCA  0.498 +- 0.158  -0.453 +- 0.828"
      ]
     },
     "execution_count": 37,
     "metadata": {},
     "output_type": "execute_result"
    }
   ],
   "source": [
    "n_splits = 10\n",
    "scores_accuracy = np.empty(n_splits)\n",
    "scores_r2 = np.empty(n_splits)\n",
    "\n",
    "class_weight_dict = {0: 0.4,1:0.2,2:0.4}\n",
    "base_classifier = SVC(probability=True, gamma='scale', random_state=42, class_weight=class_weight_dict, tol = 1e-6)\n",
    "self_training_model = SelfTrainingClassifier(base_classifier,\n",
    "                                           threshold=0.7)\n",
    "skfolds = StratifiedKFold(n_splits=n_splits)\n",
    "\n",
    "for key, X in input_dict.items() :\n",
    "    conf_mat = np.zeros((3,3))\n",
    "    for fold, (train_index, test_index) in enumerate(skfolds.split(X, Y)):\n",
    "        X_train = X.iloc[train_index,:]\n",
    "        y_train = Y[train_index]\n",
    "        X_test = X.iloc[test_index,:]\n",
    "        y_test = Y[test_index]\n",
    "        self_training_model.fit(X_train, y_train)\n",
    "        y_pred = self_training_model.predict(X_test)\n",
    "\n",
    "        y_test,y_pred = delete_unknown(y_test,y_pred)\n",
    "        scores_accuracy[fold] = accuracy_score(y_test, y_pred)\n",
    "        scores_r2[fold] = r2_score(y_test, y_pred)\n",
    "\n",
    "        matrix = confusion_matrix(y_test, y_pred)\n",
    "        matrix.diagonal()/matrix.sum(axis=1)\n",
    "        conf_mat += matrix\n",
    "\n",
    "    print(conf_mat)\n",
    "    df_results = df_results._append({'Method': 'Self_training',\n",
    "                            \"Input\": key,\n",
    "                    'Accuracy': '{} +- {}'.format(round(scores_accuracy.mean(), 3), round(scores_accuracy.std(), 3)),\n",
    "                    'R2': '{} +- {}'.format(round(scores_r2.mean(), 3), round(scores_r2.std(), 3))}, ignore_index=True)\n",
    "\n",
    "df_results"
   ]
  },
  {
   "cell_type": "markdown",
   "metadata": {},
   "source": [
    "# Label propagation"
   ]
  },
  {
   "cell_type": "code",
   "execution_count": 38,
   "metadata": {},
   "outputs": [],
   "source": [
    "from sklearn.semi_supervised import LabelPropagation"
   ]
  },
  {
   "cell_type": "code",
   "execution_count": 39,
   "metadata": {},
   "outputs": [
    {
     "name": "stdout",
     "output_type": "stream",
     "text": [
      "[[ 35. 101.  26.]\n",
      " [ 46. 244.  33.]\n",
      " [ 13. 120.  29.]]\n",
      "[[ 24. 115.  23.]\n",
      " [ 53. 237.  33.]\n",
      " [ 20. 116.  26.]]\n"
     ]
    },
    {
     "data": {
      "text/html": [
       "<div>\n",
       "<style scoped>\n",
       "    .dataframe tbody tr th:only-of-type {\n",
       "        vertical-align: middle;\n",
       "    }\n",
       "\n",
       "    .dataframe tbody tr th {\n",
       "        vertical-align: top;\n",
       "    }\n",
       "\n",
       "    .dataframe thead th {\n",
       "        text-align: right;\n",
       "    }\n",
       "</style>\n",
       "<table border=\"1\" class=\"dataframe\">\n",
       "  <thead>\n",
       "    <tr style=\"text-align: right;\">\n",
       "      <th></th>\n",
       "      <th>Method</th>\n",
       "      <th>Input</th>\n",
       "      <th>Accuracy</th>\n",
       "      <th>R2</th>\n",
       "    </tr>\n",
       "  </thead>\n",
       "  <tbody>\n",
       "    <tr>\n",
       "      <th>0</th>\n",
       "      <td>Self_training</td>\n",
       "      <td>Not PCA</td>\n",
       "      <td>0.499 +- 0.138</td>\n",
       "      <td>-0.471 +- 0.757</td>\n",
       "    </tr>\n",
       "    <tr>\n",
       "      <th>1</th>\n",
       "      <td>Self_training</td>\n",
       "      <td>PCA</td>\n",
       "      <td>0.498 +- 0.158</td>\n",
       "      <td>-0.453 +- 0.828</td>\n",
       "    </tr>\n",
       "    <tr>\n",
       "      <th>2</th>\n",
       "      <td>Label_propagation</td>\n",
       "      <td>Not PCA</td>\n",
       "      <td>0.475 +- 0.106</td>\n",
       "      <td>-0.414 +- 0.61</td>\n",
       "    </tr>\n",
       "    <tr>\n",
       "      <th>3</th>\n",
       "      <td>Label_propagation</td>\n",
       "      <td>PCA</td>\n",
       "      <td>0.443 +- 0.085</td>\n",
       "      <td>-0.516 +- 0.534</td>\n",
       "    </tr>\n",
       "  </tbody>\n",
       "</table>\n",
       "</div>"
      ],
      "text/plain": [
       "              Method    Input        Accuracy               R2\n",
       "0      Self_training  Not PCA  0.499 +- 0.138  -0.471 +- 0.757\n",
       "1      Self_training      PCA  0.498 +- 0.158  -0.453 +- 0.828\n",
       "2  Label_propagation  Not PCA  0.475 +- 0.106   -0.414 +- 0.61\n",
       "3  Label_propagation      PCA  0.443 +- 0.085  -0.516 +- 0.534"
      ]
     },
     "execution_count": 39,
     "metadata": {},
     "output_type": "execute_result"
    }
   ],
   "source": [
    "n_splits = 10\n",
    "scores_accuracy = np.empty(n_splits)\n",
    "scores_auc = np.empty(n_splits)\n",
    "\n",
    "lp_model = LabelPropagation(kernel='knn', n_neighbors=30)\n",
    "skfolds = StratifiedKFold(n_splits=n_splits)\n",
    "\n",
    "for key, X in input_dict.items() :\n",
    "    conf_mat = np.zeros((3,3))\n",
    "    for fold, (train_index, test_index) in enumerate(skfolds.split(X, Y)):\n",
    "        X_train = X.iloc[train_index,:]\n",
    "        y_train = Y[train_index]\n",
    "        X_test = X.iloc[test_index,:]\n",
    "        y_test = Y[test_index]\n",
    "\n",
    "        lp_model.fit(X_train, y_train)\n",
    "\n",
    "        y_pred = lp_model.predict(X_test)\n",
    "\n",
    "        y_test,y_pred = delete_unknown(y_test,y_pred)\n",
    "        scores_accuracy[fold] = accuracy_score(y_test, y_pred)\n",
    "        scores_r2[fold] = r2_score(y_test, y_pred)\n",
    "\n",
    "        matrix = confusion_matrix(y_test, y_pred)\n",
    "        matrix.diagonal()/matrix.sum(axis=1)\n",
    "        conf_mat += matrix\n",
    "\n",
    "    print(conf_mat)\n",
    "    df_results = df_results._append({'Method': 'Label_propagation',\n",
    "                            \"Input\": key,\n",
    "                    'Accuracy': '{} +- {}'.format(round(scores_accuracy.mean(), 3), round(scores_accuracy.std(), 3)),\n",
    "                    'R2': '{} +- {}'.format(round(scores_r2.mean(), 3), round(scores_r2.std(), 3))}, ignore_index=True)\n",
    "df_results"
   ]
  },
  {
   "cell_type": "markdown",
   "metadata": {},
   "source": [
    "# Label spreading"
   ]
  },
  {
   "cell_type": "code",
   "execution_count": 40,
   "metadata": {},
   "outputs": [],
   "source": [
    "from sklearn.semi_supervised import LabelSpreading"
   ]
  },
  {
   "cell_type": "code",
   "execution_count": 31,
   "metadata": {},
   "outputs": [
    {
     "name": "stdout",
     "output_type": "stream",
     "text": [
      "[[ 39.  95.  28.]\n",
      " [ 59. 231.  33.]\n",
      " [ 13. 118.  31.]]\n",
      "[[ 29. 110.  23.]\n",
      " [ 62. 229.  32.]\n",
      " [ 18. 116.  28.]]\n"
     ]
    },
    {
     "data": {
      "text/html": [
       "<div>\n",
       "<style scoped>\n",
       "    .dataframe tbody tr th:only-of-type {\n",
       "        vertical-align: middle;\n",
       "    }\n",
       "\n",
       "    .dataframe tbody tr th {\n",
       "        vertical-align: top;\n",
       "    }\n",
       "\n",
       "    .dataframe thead th {\n",
       "        text-align: right;\n",
       "    }\n",
       "</style>\n",
       "<table border=\"1\" class=\"dataframe\">\n",
       "  <thead>\n",
       "    <tr style=\"text-align: right;\">\n",
       "      <th></th>\n",
       "      <th>Method</th>\n",
       "      <th>Input</th>\n",
       "      <th>Accuracy</th>\n",
       "      <th>R2</th>\n",
       "    </tr>\n",
       "  </thead>\n",
       "  <tbody>\n",
       "    <tr>\n",
       "      <th>0</th>\n",
       "      <td>Self_training</td>\n",
       "      <td>Not PCA</td>\n",
       "      <td>0.499 +- 0.138</td>\n",
       "      <td>-0.471 +- 0.757</td>\n",
       "    </tr>\n",
       "    <tr>\n",
       "      <th>1</th>\n",
       "      <td>Self_training</td>\n",
       "      <td>PCA</td>\n",
       "      <td>0.498 +- 0.158</td>\n",
       "      <td>-0.453 +- 0.828</td>\n",
       "    </tr>\n",
       "    <tr>\n",
       "      <th>2</th>\n",
       "      <td>Label_propagation</td>\n",
       "      <td>Not PCA</td>\n",
       "      <td>0.475 +- 0.106</td>\n",
       "      <td>-0.414 +- 0.61</td>\n",
       "    </tr>\n",
       "    <tr>\n",
       "      <th>3</th>\n",
       "      <td>Label_propagation</td>\n",
       "      <td>PCA</td>\n",
       "      <td>0.443 +- 0.085</td>\n",
       "      <td>-0.516 +- 0.534</td>\n",
       "    </tr>\n",
       "    <tr>\n",
       "      <th>4</th>\n",
       "      <td>Label_spreading</td>\n",
       "      <td>Not PCA</td>\n",
       "      <td>0.464 +- 0.11</td>\n",
       "      <td>-0.454 +- 0.646</td>\n",
       "    </tr>\n",
       "    <tr>\n",
       "      <th>5</th>\n",
       "      <td>Label_spreading</td>\n",
       "      <td>PCA</td>\n",
       "      <td>0.441 +- 0.09</td>\n",
       "      <td>-0.5 +- 0.534</td>\n",
       "    </tr>\n",
       "  </tbody>\n",
       "</table>\n",
       "</div>"
      ],
      "text/plain": [
       "              Method    Input        Accuracy               R2\n",
       "0      Self_training  Not PCA  0.499 +- 0.138  -0.471 +- 0.757\n",
       "1      Self_training      PCA  0.498 +- 0.158  -0.453 +- 0.828\n",
       "2  Label_propagation  Not PCA  0.475 +- 0.106   -0.414 +- 0.61\n",
       "3  Label_propagation      PCA  0.443 +- 0.085  -0.516 +- 0.534\n",
       "4    Label_spreading  Not PCA   0.464 +- 0.11  -0.454 +- 0.646\n",
       "5    Label_spreading      PCA   0.441 +- 0.09    -0.5 +- 0.534"
      ]
     },
     "execution_count": 31,
     "metadata": {},
     "output_type": "execute_result"
    }
   ],
   "source": [
    "n_splits = 10\n",
    "scores_accuracy = np.empty(n_splits)\n",
    "scores_auc = np.empty(n_splits)\n",
    "\n",
    "lp_model = LabelSpreading(kernel='knn', n_neighbors=30)\n",
    "skfolds = StratifiedKFold(n_splits=n_splits)\n",
    "\n",
    "for key, X in input_dict.items() :\n",
    "    conf_mat = np.zeros((3,3))\n",
    "    for fold, (train_index, test_index) in enumerate(skfolds.split(X, Y)):\n",
    "        X_train = X.iloc[train_index,:]\n",
    "        y_train = Y[train_index]\n",
    "        X_test = X.iloc[test_index,:]\n",
    "        y_test = Y[test_index]\n",
    "\n",
    "        lp_model.fit(X_train, y_train)\n",
    "\n",
    "        y_pred = lp_model.predict(X_test)\n",
    "\n",
    "        y_test,y_pred = delete_unknown(y_test,y_pred)\n",
    "        scores_accuracy[fold] = accuracy_score(y_test, y_pred)\n",
    "        scores_r2[fold] = r2_score(y_test, y_pred)\n",
    "\n",
    "        matrix = confusion_matrix(y_test, y_pred)\n",
    "        matrix.diagonal()/matrix.sum(axis=1)\n",
    "        conf_mat += matrix\n",
    "\n",
    "    print(conf_mat)\n",
    "    df_results = df_results._append({'Method': 'Label_spreading',\n",
    "                            \"Input\": key,\n",
    "                    'Accuracy': '{} +- {}'.format(round(scores_accuracy.mean(), 3), round(scores_accuracy.std(), 3)),\n",
    "                    'R2': '{} +- {}'.format(round(scores_r2.mean(), 3), round(scores_r2.std(), 3))}, ignore_index=True)\n",
    "df_results"
   ]
  }
 ],
 "metadata": {
  "kernelspec": {
   "display_name": "apprauto-hv_gZX10-py3.12",
   "language": "python",
   "name": "python3"
  },
  "language_info": {
   "codemirror_mode": {
    "name": "ipython",
    "version": 3
   },
   "file_extension": ".py",
   "mimetype": "text/x-python",
   "name": "python",
   "nbconvert_exporter": "python",
   "pygments_lexer": "ipython3",
   "version": "3.12.6"
  }
 },
 "nbformat": 4,
 "nbformat_minor": 2
}
